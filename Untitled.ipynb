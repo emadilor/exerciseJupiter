{
 "cells": [
  {
   "cell_type": "markdown",
   "id": "3012a35f-8a82-4819-b27c-50094a86bec4",
   "metadata": {},
   "source": [
    "Exercise 2 - Create a markdown cell with the title of the notebook"
   ]
  },
  {
   "cell_type": "markdown",
   "id": "06447709-0542-43d5-beb7-1f05b70048aa",
   "metadata": {
    "tags": []
   },
   "source": [
    "<h1>My Title</h1>"
   ]
  },
  {
   "cell_type": "markdown",
   "id": "effb1aed-1626-4465-8314-256f137d5a67",
   "metadata": {
    "tags": []
   },
   "source": [
    "Exercise 3 - Create a markdown cell for an introduction"
   ]
  },
  {
   "cell_type": "markdown",
   "id": "c10517c4-38af-43da-93db-c49f99c6c91c",
   "metadata": {
    "tags": []
   },
   "source": [
    "<h2>my Introduction</h2>"
   ]
  },
  {
   "cell_type": "markdown",
   "id": "7aea8026-1012-46f9-8565-97902a504062",
   "metadata": {},
   "source": [
    "Exercise 4 - Create a markdown cell to list data science languages"
   ]
  },
  {
   "cell_type": "markdown",
   "id": "44d4f4af-1f5b-4dff-a36d-1a5f02cd3c2d",
   "metadata": {},
   "source": [
    "<ul>\n",
    "<li>python</li>\n",
    "    <li>R</li>\n",
    "    <li>Julia</li>\n",
    "    <li>C++</li>\n",
    "</ul>"
   ]
  },
  {
   "cell_type": "markdown",
   "id": "d942f98b-2468-47e7-a4fa-ff218ae16c56",
   "metadata": {},
   "source": [
    "Exercise 5 - Create a markdown cell to list data science libraries."
   ]
  },
  {
   "cell_type": "markdown",
   "id": "1c6f7541-939c-47b7-a496-d315ab94e988",
   "metadata": {},
   "source": [
    "sci-kitLearn"
   ]
  },
  {
   "cell_type": "markdown",
   "id": "d45842b9-7c07-4203-933d-62e539d462bd",
   "metadata": {},
   "source": [
    "Exercise 6 - Create a markdown cell with a table of Data Science tools. "
   ]
  },
  {
   "cell_type": "markdown",
   "id": "3b196e2f-b277-483b-a5f1-4dfb7b852392",
   "metadata": {},
   "source": [
    "<ul>\n",
    "<li>python</li>\n",
    "    <li>Pandas</li>\n",
    "    <li>Seaborn</li>\n",
    "</ul>"
   ]
  },
  {
   "cell_type": "markdown",
   "id": "9e336bf9-f63f-4e9a-bfe6-6c90f63fd42d",
   "metadata": {},
   "source": [
    "Exercise 7 - Create a markdown cell introducing arithmetic expression examples. "
   ]
  },
  {
   "cell_type": "markdown",
   "id": "d17ba01f-75ce-4b5d-97ea-7f18e8b256dc",
   "metadata": {},
   "source": [
    "you can add two numbers writing 2 + 3"
   ]
  },
  {
   "cell_type": "markdown",
   "id": "45ade1e7-29d5-4892-b06d-498d71a4f659",
   "metadata": {},
   "source": [
    "Exercise 8 - Create a code cell to multiply and add numbers. "
   ]
  },
  {
   "cell_type": "code",
   "execution_count": 3,
   "id": "0dd49a54-ef2c-4057-896e-70d78e6fd0c4",
   "metadata": {
    "tags": []
   },
   "outputs": [
    {
     "name": "stdout",
     "output_type": "stream",
     "text": [
      "5\n",
      "6\n"
     ]
    }
   ],
   "source": [
    "a=3\n",
    "b=2\n",
    "sum = a + b\n",
    "multiplication = a * b\n",
    "print(sum)\n",
    "print(multiplication)"
   ]
  },
  {
   "cell_type": "markdown",
   "id": "5d262116-ca58-43b9-aaf3-cbd8a4ac8356",
   "metadata": {},
   "source": [
    "Exercise 9 - Create a code cell to convert minutes to hours."
   ]
  },
  {
   "cell_type": "code",
   "execution_count": 4,
   "id": "a42c3e97-e170-4098-9688-e7a746ba32a8",
   "metadata": {
    "tags": []
   },
   "outputs": [
    {
     "name": "stdout",
     "output_type": "stream",
     "text": [
      "1.0\n"
     ]
    }
   ],
   "source": [
    "minutes = 60\n",
    "hours = minutes / 60\n",
    "print(hours)"
   ]
  },
  {
   "cell_type": "markdown",
   "id": "dc28b8b5-f3ce-4948-bfdd-1ff2023d1c00",
   "metadata": {},
   "source": [
    "Exercise 10 -Insert a markdown cell to list Objectives."
   ]
  },
  {
   "cell_type": "markdown",
   "id": "d2010115-471c-4bea-98f0-7d251ec0e074",
   "metadata": {},
   "source": [
    "Exercise 11 - Create a markdown cell to indicate the Author’s name"
   ]
  },
  {
   "cell_type": "markdown",
   "id": "2480545d-b8ed-4930-bf2a-cd79cfc546d0",
   "metadata": {},
   "source": [
    "Emanuele"
   ]
  },
  {
   "cell_type": "code",
   "execution_count": null,
   "id": "078a9b18-9229-4ea1-a833-bc4ad7dd695b",
   "metadata": {},
   "outputs": [],
   "source": [
    "\n"
   ]
  }
 ],
 "metadata": {
  "kernelspec": {
   "display_name": "Python",
   "language": "python",
   "name": "conda-env-python-py"
  },
  "language_info": {
   "codemirror_mode": {
    "name": "ipython",
    "version": 3
   },
   "file_extension": ".py",
   "mimetype": "text/x-python",
   "name": "python",
   "nbconvert_exporter": "python",
   "pygments_lexer": "ipython3",
   "version": "3.7.12"
  }
 },
 "nbformat": 4,
 "nbformat_minor": 5
}
