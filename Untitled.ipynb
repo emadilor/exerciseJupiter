{
 "cells": [
  {
   "cell_type": "markdown",
   "id": "3012a35f-8a82-4819-b27c-50094a86bec4",
   "metadata": {},
   "source": [
    "### Exercise 2 - Create a markdown cell with the title of the notebook"
   ]
  },
  {
   "cell_type": "markdown",
   "id": "06447709-0542-43d5-beb7-1f05b70048aa",
   "metadata": {
    "tags": []
   },
   "source": [
    "<h1>My Title</h1>"
   ]
  },
  {
   "cell_type": "markdown",
   "id": "b6b75532-2b31-41de-995e-723557e3b2d8",
   "metadata": {
    "tags": []
   },
   "source": [
    "<h1>My Title</h1>"
   ]
  },
  {
   "cell_type": "markdown",
   "id": "effb1aed-1626-4465-8314-256f137d5a67",
   "metadata": {
    "tags": []
   },
   "source": [
    "### Exercise 3 - Create a markdown cell for an introduction"
   ]
  },
  {
   "cell_type": "markdown",
   "id": "c10517c4-38af-43da-93db-c49f99c6c91c",
   "metadata": {
    "tags": []
   },
   "source": [
    "<h2>my Introduction</h2>"
   ]
  },
  {
   "cell_type": "markdown",
   "id": "d421427a-70ea-46e3-ba6e-c056f6964f78",
   "metadata": {
    "tags": []
   },
   "source": [
    "<h2>my Introduction</h2>"
   ]
  },
  {
   "cell_type": "markdown",
   "id": "7aea8026-1012-46f9-8565-97902a504062",
   "metadata": {},
   "source": [
    "### Exercise 4 - Create a markdown cell to list data science languages"
   ]
  },
  {
   "cell_type": "markdown",
   "id": "44d4f4af-1f5b-4dff-a36d-1a5f02cd3c2d",
   "metadata": {
    "tags": []
   },
   "source": [
    "# languages list\n",
    "\n",
    "<ul>\n",
    "<li>python</li>\n",
    "    <li>R</li>\n",
    "    <li>Julia</li>\n",
    "</ul>"
   ]
  },
  {
   "cell_type": "markdown",
   "id": "f246bd9a-0434-4e58-a614-cf3ae355860e",
   "metadata": {},
   "source": [
    "# languages list\n",
    "\n",
    "<ul>\n",
    "<li>python</li>\n",
    "    <li>R</li>\n",
    "    <li>Julia</li>\n",
    "</ul>"
   ]
  },
  {
   "cell_type": "markdown",
   "id": "d942f98b-2468-47e7-a4fa-ff218ae16c56",
   "metadata": {},
   "source": [
    "### Exercise 5 - Create a markdown cell to list data science libraries."
   ]
  },
  {
   "cell_type": "markdown",
   "id": "1c6f7541-939c-47b7-a496-d315ab94e988",
   "metadata": {},
   "source": [
    "<ul>\n",
    "<li>scikit-learn</li>\n",
    "    <li>tensorflow</li>\n",
    "    <li>keras</li>\n",
    "     <li>dplyr</li>\n",
    "</ul>"
   ]
  },
  {
   "cell_type": "markdown",
   "id": "fa7fe3a3-c5f7-4bf4-a5bf-9d513f5e6f30",
   "metadata": {},
   "source": [
    "<ul>\n",
    "<li>scikit-learn</li>\n",
    "    <li>tensorflow</li>\n",
    "    <li>keras</li>\n",
    "     <li>dplyr</li>\n",
    "</ul>"
   ]
  },
  {
   "cell_type": "markdown",
   "id": "d45842b9-7c07-4203-933d-62e539d462bd",
   "metadata": {},
   "source": [
    "### Exercise 6 - Create a markdown cell with a table of Data Science tools. "
   ]
  },
  {
   "cell_type": "markdown",
   "id": "3b196e2f-b277-483b-a5f1-4dfb7b852392",
   "metadata": {},
   "source": [
    "<ul>\n",
    "<li>matplotlib</li>\n",
    "    <li>Pandas</li>\n",
    "    <li>Seaborn</li>\n",
    "</ul>"
   ]
  },
  {
   "cell_type": "markdown",
   "id": "62a8ee4f-fd4b-46cd-9b67-825ebf1f8565",
   "metadata": {},
   "source": [
    "<ul>\n",
    "<li>matplotlib</li>\n",
    "    <li>Pandas</li>\n",
    "    <li>Seaborn</li>\n",
    "</ul>"
   ]
  },
  {
   "cell_type": "markdown",
   "id": "9e336bf9-f63f-4e9a-bfe6-6c90f63fd42d",
   "metadata": {},
   "source": [
    "### Exercise 7 - Create a markdown cell introducing arithmetic expression examples. "
   ]
  },
  {
   "cell_type": "markdown",
   "id": "d17ba01f-75ce-4b5d-97ea-7f18e8b256dc",
   "metadata": {},
   "source": [
    "a = 3, \n",
    "b = 2,\n",
    "c = 4\n",
    "\n",
    "result = (a+b)*c"
   ]
  },
  {
   "cell_type": "markdown",
   "id": "14053ef3-1719-4051-b861-3d7df8bfef2e",
   "metadata": {},
   "source": [
    "a = 3, \n",
    "b = 2,\n",
    "c = 4\n",
    "\n",
    "result = (a+b)*c"
   ]
  },
  {
   "cell_type": "markdown",
   "id": "45ade1e7-29d5-4892-b06d-498d71a4f659",
   "metadata": {},
   "source": [
    "### Exercise 8 - Create a code cell to multiply and add numbers. "
   ]
  },
  {
   "cell_type": "code",
   "execution_count": 5,
   "id": "0dd49a54-ef2c-4057-896e-70d78e6fd0c4",
   "metadata": {
    "tags": []
   },
   "outputs": [
    {
     "name": "stdout",
     "output_type": "stream",
     "text": [
      "20\n"
     ]
    }
   ],
   "source": [
    "a = 3\n",
    "b = 2\n",
    "c = 4\n",
    "result = (a+b)*c\n",
    "print(result)"
   ]
  },
  {
   "cell_type": "markdown",
   "id": "5d262116-ca58-43b9-aaf3-cbd8a4ac8356",
   "metadata": {},
   "source": [
    "### Exercise 9 - Create a code cell to convert minutes to hours."
   ]
  },
  {
   "cell_type": "code",
   "execution_count": 9,
   "id": "a42c3e97-e170-4098-9688-e7a746ba32a8",
   "metadata": {
    "tags": []
   },
   "outputs": [
    {
     "name": "stdout",
     "output_type": "stream",
     "text": [
      "120 minutes are 2.0 hours\n"
     ]
    }
   ],
   "source": [
    "minutes = 120\n",
    "hours = minutes / 60\n",
    "print(str(minutes) + ' minutes are ' + str(hours) + ' hours')"
   ]
  },
  {
   "cell_type": "markdown",
   "id": "dc28b8b5-f3ce-4948-bfdd-1ff2023d1c00",
   "metadata": {},
   "source": [
    "### Exercise 10 -Insert a markdown cell to list Objectives."
   ]
  },
  {
   "cell_type": "markdown",
   "id": "d2010115-471c-4bea-98f0-7d251ec0e074",
   "metadata": {},
   "source": [
    "### Exercise 11 - Create a markdown cell to indicate the Author’s name"
   ]
  },
  {
   "cell_type": "markdown",
   "id": "2480545d-b8ed-4930-bf2a-cd79cfc546d0",
   "metadata": {},
   "source": [
    "Emanuele"
   ]
  },
  {
   "cell_type": "markdown",
   "id": "10317549-d9a1-453c-84fd-455a16c27522",
   "metadata": {},
   "source": [
    "Emanuele"
   ]
  },
  {
   "cell_type": "code",
   "execution_count": null,
   "id": "078a9b18-9229-4ea1-a833-bc4ad7dd695b",
   "metadata": {},
   "outputs": [],
   "source": [
    "\n"
   ]
  }
 ],
 "metadata": {
  "kernelspec": {
   "display_name": "Python",
   "language": "python",
   "name": "conda-env-python-py"
  },
  "language_info": {
   "codemirror_mode": {
    "name": "ipython",
    "version": 3
   },
   "file_extension": ".py",
   "mimetype": "text/x-python",
   "name": "python",
   "nbconvert_exporter": "python",
   "pygments_lexer": "ipython3",
   "version": "3.7.12"
  }
 },
 "nbformat": 4,
 "nbformat_minor": 5
}
